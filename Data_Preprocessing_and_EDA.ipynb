{
 "cells": [
  {
   "cell_type": "code",
   "execution_count": 3,
   "metadata": {},
   "outputs": [
    {
     "name": "stdout",
     "output_type": "stream",
     "text": [
      "Requirement already satisfied: numpy in c:\\users\\tiled\\anaconda3\\lib\\site-packages (1.26.4)\n",
      "Requirement already satisfied: pandas in c:\\users\\tiled\\anaconda3\\lib\\site-packages (2.1.4)\n",
      "Requirement already satisfied: seaborn in c:\\users\\tiled\\anaconda3\\lib\\site-packages (0.12.2)\n",
      "Requirement already satisfied: matplotlib in c:\\users\\tiled\\anaconda3\\lib\\site-packages (3.8.0)\n",
      "Requirement already satisfied: plotly in c:\\users\\tiled\\anaconda3\\lib\\site-packages (5.9.0)\n",
      "Requirement already satisfied: scikit-learn in c:\\users\\tiled\\anaconda3\\lib\\site-packages (1.2.2)\n",
      "Requirement already satisfied: nltk in c:\\users\\tiled\\anaconda3\\lib\\site-packages (3.8.1)\n",
      "Collecting wordcloud\n",
      "  Downloading wordcloud-1.9.4-cp311-cp311-win_amd64.whl.metadata (3.5 kB)\n",
      "Requirement already satisfied: python-dateutil>=2.8.2 in c:\\users\\tiled\\anaconda3\\lib\\site-packages (from pandas) (2.8.2)\n",
      "Requirement already satisfied: pytz>=2020.1 in c:\\users\\tiled\\anaconda3\\lib\\site-packages (from pandas) (2023.3.post1)\n",
      "Requirement already satisfied: tzdata>=2022.1 in c:\\users\\tiled\\anaconda3\\lib\\site-packages (from pandas) (2023.3)\n",
      "Requirement already satisfied: contourpy>=1.0.1 in c:\\users\\tiled\\anaconda3\\lib\\site-packages (from matplotlib) (1.2.0)\n",
      "Requirement already satisfied: cycler>=0.10 in c:\\users\\tiled\\anaconda3\\lib\\site-packages (from matplotlib) (0.11.0)\n",
      "Requirement already satisfied: fonttools>=4.22.0 in c:\\users\\tiled\\anaconda3\\lib\\site-packages (from matplotlib) (4.25.0)\n",
      "Requirement already satisfied: kiwisolver>=1.0.1 in c:\\users\\tiled\\anaconda3\\lib\\site-packages (from matplotlib) (1.4.4)\n",
      "Requirement already satisfied: packaging>=20.0 in c:\\users\\tiled\\anaconda3\\lib\\site-packages (from matplotlib) (23.1)\n",
      "Requirement already satisfied: pillow>=6.2.0 in c:\\users\\tiled\\anaconda3\\lib\\site-packages (from matplotlib) (10.2.0)\n",
      "Requirement already satisfied: pyparsing>=2.3.1 in c:\\users\\tiled\\anaconda3\\lib\\site-packages (from matplotlib) (3.0.9)\n",
      "Requirement already satisfied: tenacity>=6.2.0 in c:\\users\\tiled\\anaconda3\\lib\\site-packages (from plotly) (8.2.2)\n",
      "Requirement already satisfied: scipy>=1.3.2 in c:\\users\\tiled\\anaconda3\\lib\\site-packages (from scikit-learn) (1.11.4)\n",
      "Requirement already satisfied: joblib>=1.1.1 in c:\\users\\tiled\\anaconda3\\lib\\site-packages (from scikit-learn) (1.2.0)\n",
      "Requirement already satisfied: threadpoolctl>=2.0.0 in c:\\users\\tiled\\anaconda3\\lib\\site-packages (from scikit-learn) (2.2.0)\n",
      "Requirement already satisfied: click in c:\\users\\tiled\\anaconda3\\lib\\site-packages (from nltk) (8.1.7)\n",
      "Requirement already satisfied: regex>=2021.8.3 in c:\\users\\tiled\\anaconda3\\lib\\site-packages (from nltk) (2023.10.3)\n",
      "Requirement already satisfied: tqdm in c:\\users\\tiled\\anaconda3\\lib\\site-packages (from nltk) (4.65.0)\n",
      "Requirement already satisfied: six>=1.5 in c:\\users\\tiled\\anaconda3\\lib\\site-packages (from python-dateutil>=2.8.2->pandas) (1.16.0)\n",
      "Requirement already satisfied: colorama in c:\\users\\tiled\\anaconda3\\lib\\site-packages (from click->nltk) (0.4.6)\n",
      "Downloading wordcloud-1.9.4-cp311-cp311-win_amd64.whl (299 kB)\n",
      "   ---------------------------------------- 0.0/299.9 kB ? eta -:--:--\n",
      "   - -------------------------------------- 10.2/299.9 kB ? eta -:--:--\n",
      "   - -------------------------------------- 10.2/299.9 kB ? eta -:--:--\n",
      "   -- ------------------------------------- 20.5/299.9 kB 108.9 kB/s eta 0:00:03\n",
      "   ---- ----------------------------------- 30.7/299.9 kB 163.8 kB/s eta 0:00:02\n",
      "   ---- ----------------------------------- 30.7/299.9 kB 163.8 kB/s eta 0:00:02\n",
      "   ----- ---------------------------------- 41.0/299.9 kB 151.3 kB/s eta 0:00:02\n",
      "   ----- ---------------------------------- 41.0/299.9 kB 151.3 kB/s eta 0:00:02\n",
      "   ------------ --------------------------- 92.2/299.9 kB 261.7 kB/s eta 0:00:01\n",
      "   ------------ --------------------------- 92.2/299.9 kB 261.7 kB/s eta 0:00:01\n",
      "   ------------- -------------------------- 102.4/299.9 kB 227.0 kB/s eta 0:00:01\n",
      "   ------------- -------------------------- 102.4/299.9 kB 227.0 kB/s eta 0:00:01\n",
      "   ---------------- ----------------------- 122.9/299.9 kB 218.3 kB/s eta 0:00:01\n",
      "   ----------------------- ---------------- 174.1/299.9 kB 299.5 kB/s eta 0:00:01\n",
      "   ----------------------- ---------------- 174.1/299.9 kB 299.5 kB/s eta 0:00:01\n",
      "   ----------------------- ---------------- 174.1/299.9 kB 299.5 kB/s eta 0:00:01\n",
      "   ----------------------- ---------------- 174.1/299.9 kB 299.5 kB/s eta 0:00:01\n",
      "   ----------------------- ---------------- 174.1/299.9 kB 299.5 kB/s eta 0:00:01\n",
      "   ----------------------- ---------------- 174.1/299.9 kB 299.5 kB/s eta 0:00:01\n",
      "   ----------------------- ---------------- 174.1/299.9 kB 299.5 kB/s eta 0:00:01\n",
      "   ----------------------- ---------------- 174.1/299.9 kB 299.5 kB/s eta 0:00:01\n",
      "   ----------------------- ---------------- 174.1/299.9 kB 299.5 kB/s eta 0:00:01\n",
      "   ----------------------- ---------------- 174.1/299.9 kB 299.5 kB/s eta 0:00:01\n",
      "   ----------------------- ---------------- 174.1/299.9 kB 299.5 kB/s eta 0:00:01\n",
      "   ----------------------- ---------------- 174.1/299.9 kB 299.5 kB/s eta 0:00:01\n",
      "   ----------------------- ---------------- 174.1/299.9 kB 299.5 kB/s eta 0:00:01\n",
      "   ----------------------- ---------------- 174.1/299.9 kB 299.5 kB/s eta 0:00:01\n",
      "   ----------------------- ---------------- 174.1/299.9 kB 299.5 kB/s eta 0:00:01\n",
      "   ----------------------- ---------------- 174.1/299.9 kB 299.5 kB/s eta 0:00:01\n",
      "   ----------------------- ---------------- 174.1/299.9 kB 299.5 kB/s eta 0:00:01\n",
      "   ----------------------- ---------------- 174.1/299.9 kB 299.5 kB/s eta 0:00:01\n",
      "   ------------------------------ --------- 225.3/299.9 kB 156.4 kB/s eta 0:00:01\n",
      "   ------------------------------ --------- 225.3/299.9 kB 156.4 kB/s eta 0:00:01\n",
      "   ------------------------------ --------- 225.3/299.9 kB 156.4 kB/s eta 0:00:01\n",
      "   ------------------------------ --------- 225.3/299.9 kB 156.4 kB/s eta 0:00:01\n",
      "   ------------------------------ --------- 225.3/299.9 kB 156.4 kB/s eta 0:00:01\n",
      "   ------------------------------ --------- 225.3/299.9 kB 156.4 kB/s eta 0:00:01\n",
      "   ------------------------------ --------- 225.3/299.9 kB 156.4 kB/s eta 0:00:01\n",
      "   ------------------------------ --------- 225.3/299.9 kB 156.4 kB/s eta 0:00:01\n",
      "   ------------------------------ --------- 225.3/299.9 kB 156.4 kB/s eta 0:00:01\n",
      "   -------------------------------------- - 286.7/299.9 kB 152.5 kB/s eta 0:00:01\n",
      "   -------------------------------------- - 286.7/299.9 kB 152.5 kB/s eta 0:00:01\n",
      "   -------------------------------------- - 286.7/299.9 kB 152.5 kB/s eta 0:00:01\n",
      "   -------------------------------------- - 286.7/299.9 kB 152.5 kB/s eta 0:00:01\n",
      "   ---------------------------------------- 299.9/299.9 kB 144.8 kB/s eta 0:00:00\n",
      "Installing collected packages: wordcloud\n",
      "Successfully installed wordcloud-1.9.4\n",
      "Note: you may need to restart the kernel to use updated packages.\n"
     ]
    }
   ],
   "source": [
    "%pip install numpy pandas seaborn matplotlib plotly scikit-learn nltk wordcloud"
   ]
  }
 ],
 "metadata": {
  "kernelspec": {
   "display_name": "base",
   "language": "python",
   "name": "python3"
  },
  "language_info": {
   "codemirror_mode": {
    "name": "ipython",
    "version": 3
   },
   "file_extension": ".py",
   "mimetype": "text/x-python",
   "name": "python",
   "nbconvert_exporter": "python",
   "pygments_lexer": "ipython3",
   "version": "3.11.7"
  }
 },
 "nbformat": 4,
 "nbformat_minor": 2
}
